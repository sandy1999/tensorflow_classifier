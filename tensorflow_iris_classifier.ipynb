{
 "cells": [
  {
   "cell_type": "code",
   "execution_count": 1,
   "metadata": {},
   "outputs": [],
   "source": [
    "# import libraires \n",
    "import tensorflow as tf \n",
    "\n",
    "# helper libraries \n",
    "from sklearn.datasets import load_iris # data set \n",
    "import numpy as np # matrix maths\n",
    "from sklearn.model_selection import train_test_split # to split data set \n",
    "from sklearn.metrics import confusion_matrix # matrix evaluation \n",
    "from sklearn.preprocessing import OneHotEncoder # to encode our labels\n",
    "\n",
    "# plotting libraries \n",
    "from seaborn import  heatmap # plotting a confustion matrix \n",
    "import matplotlib.pyplot as plt # python plotting "
   ]
  },
  {
   "cell_type": "code",
   "execution_count": 2,
   "metadata": {},
   "outputs": [],
   "source": [
    "# loading data sets \n",
    "iris_data = load_iris()\n",
    "# features \n",
    "features = iris_data.data\n",
    "# output \n",
    "inputY = iris_data.target\n",
    "# onehot encoding of our labels \n",
    "inputY = OneHotEncoder(sparse=False).fit_transform(inputY[:,np.newaxis])"
   ]
  },
  {
   "cell_type": "code",
   "execution_count": 3,
   "metadata": {},
   "outputs": [],
   "source": [
    "# hyper parameters \n",
    "learning_rate = 0.001\n",
    "training_epochs = 10000"
   ]
  },
  {
   "cell_type": "code",
   "execution_count": 4,
   "metadata": {},
   "outputs": [],
   "source": [
    "# splitting our data set \n",
    "X_train, X_test, y_train, y_test = train_test_split(features, inputY, random_state=0)"
   ]
  },
  {
   "cell_type": "code",
   "execution_count": 5,
   "metadata": {},
   "outputs": [],
   "source": [
    "# make a computation graph \n",
    "x = tf.placeholder(tf.float32, [None, 4]) # features placeholder\n",
    "W = tf.Variable(tf.zeros([4,3])) # random weights initialize \n",
    "b = tf.Variable(tf.zeros(3))  #bias initialize \n",
    "ypred = tf.add(b, tf.matmul(x, W)) # matrix multiplication \n",
    "ypred = tf.nn.softmax(ypred) # softmax conversion for logit \n",
    "y = tf.placeholder(tf.float32, [None,3]) # placeholder for labels"
   ]
  },
  {
   "cell_type": "code",
   "execution_count": 6,
   "metadata": {},
   "outputs": [],
   "source": [
    "# making a cost fucntion \n",
    "cost = tf.reduce_mean(tf.square(y - ypred))\n",
    "# cost optimizer \n",
    "# gradinet descent\n",
    "optimizer = tf.train.GradientDescentOptimizer(learning_rate).minimize(cost)"
   ]
  },
  {
   "cell_type": "code",
   "execution_count": 7,
   "metadata": {},
   "outputs": [],
   "source": [
    "# init session and variables\n",
    "init = tf.global_variables_initializer()\n",
    "sess = tf.Session()\n",
    "sess.run(init)"
   ]
  },
  {
   "cell_type": "code",
   "execution_count": 8,
   "metadata": {},
   "outputs": [
    {
     "name": "stdout",
     "output_type": "stream",
     "text": [
      "0 iteration cost = 0.22213107347488403\n",
      "500 iteration cost = 0.2002335488796234\n",
      "1000 iteration cost = 0.18551133573055267\n",
      "1500 iteration cost = 0.17254625260829926\n",
      "2000 iteration cost = 0.1616486757993698\n",
      "2500 iteration cost = 0.15267996490001678\n",
      "3000 iteration cost = 0.1453193873167038\n",
      "3500 iteration cost = 0.13923504948616028\n",
      "4000 iteration cost = 0.1341456174850464\n",
      "4500 iteration cost = 0.1298300176858902\n",
      "5000 iteration cost = 0.1261194944381714\n",
      "5500 iteration cost = 0.12288618087768555\n",
      "6000 iteration cost = 0.12003324180841446\n",
      "6500 iteration cost = 0.11748675256967545\n",
      "7000 iteration cost = 0.11518985778093338\n",
      "7500 iteration cost = 0.11309840530157089\n",
      "8000 iteration cost = 0.11117783188819885\n",
      "8500 iteration cost = 0.10940073430538177\n",
      "9000 iteration cost = 0.10774523764848709\n",
      "9500 iteration cost = 0.10619369149208069\n",
      "After Optimization\n",
      "training cost = 0.10473457723855972, w = [[ 0.16540723  0.01660486 -0.18201157]\n",
      " [ 0.3756333  -0.1266983  -0.24893484]\n",
      " [-0.54280573  0.09975313  0.44305247]\n",
      " [-0.2616852  -0.01819422  0.27987948]], b = [ 0.08382162  0.01192876 -0.09575031]\n"
     ]
    }
   ],
   "source": [
    "# for loop\n",
    "for i in range(training_epochs):\n",
    "    # running optimizer\n",
    "    sess.run(optimizer, feed_dict={x:X_train, y:y_train})\n",
    "    # cost function printing\n",
    "    if (i) % 500 == 0:\n",
    "        cc = sess.run(cost,feed_dict={x:X_train, y:y_train})\n",
    "        print(\"{} iteration cost = {}\".format(i, cc))\n",
    "\n",
    "# final parameters\n",
    "print(\"After Optimization\")\n",
    "training_cost = sess.run(cost, feed_dict={x:X_train, y:y_train})\n",
    "print(\"training cost = {}, w = {}, b = {}\".format(training_cost, sess.run(W), sess.run(b)))"
   ]
  },
  {
   "cell_type": "code",
   "execution_count": 9,
   "metadata": {},
   "outputs": [],
   "source": [
    "# testing our model \n",
    "pred = sess.run(ypred, feed_dict={x:X_test, y:y_test}).round()"
   ]
  },
  {
   "cell_type": "code",
   "execution_count": 10,
   "metadata": {},
   "outputs": [
    {
     "data": {
      "image/png": "[encoded data removed]",
      "text/plain": [
       "<Figure size 432x288 with 1 Axes>"
      ]
     },
     "metadata": {},
     "output_type": "display_data"
    }
   ],
   "source": [
    "# confusion matrix \n",
    "mat = confusion_matrix(y_test.ravel(), pred.ravel())\n",
    "# plotting heat maps \n",
    "heatmap(mat.T, square=True, fmt='d', annot=True, cbar=False)\n",
    "plt.show();"
   ]
  }
 ],
 "metadata": {
  "kernelspec": {
   "display_name": "Python 3",
   "language": "python",
   "name": "python3"
  },
  "language_info": {
   "codemirror_mode": {
    "name": "ipython",
    "version": 3
   },
   "file_extension": ".py",
   "mimetype": "text/x-python",
   "name": "python",
   "nbconvert_exporter": "python",
   "pygments_lexer": "ipython3",
   "version": "3.6.6"
  }
 },
 "nbformat": 4,
 "nbformat_minor": 2
}
