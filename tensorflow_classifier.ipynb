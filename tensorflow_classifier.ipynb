{
 "cells": [
  {
   "cell_type": "code",
   "execution_count": 1,
   "metadata": {},
   "outputs": [],
   "source": [
    "# import tensorflow \n",
    "import tensorflow as tf \n",
    "\n",
    "# helper libraries \n",
    "import numpy as np # matrix maths \n",
    "import pandas as pd # data as tables "
   ]
  },
  {
   "cell_type": "markdown",
   "metadata": {},
   "source": [
    "## Step 1\n",
    "\n",
    "Loading data for computational purpose"
   ]
  },
  {
   "cell_type": "code",
   "execution_count": 2,
   "metadata": {},
   "outputs": [
    {
     "data": {
      "text/html": [
       "<div>\n",
       "<style scoped>\n",
       "    .dataframe tbody tr th:only-of-type {\n",
       "        vertical-align: middle;\n",
       "    }\n",
       "\n",
       "    .dataframe tbody tr th {\n",
       "        vertical-align: top;\n",
       "    }\n",
       "\n",
       "    .dataframe thead th {\n",
       "        text-align: right;\n",
       "    }\n",
       "</style>\n",
       "<table border=\"1\" class=\"dataframe\">\n",
       "  <thead>\n",
       "    <tr style=\"text-align: right;\">\n",
       "      <th></th>\n",
       "      <th>area</th>\n",
       "      <th>bathrooms</th>\n",
       "    </tr>\n",
       "  </thead>\n",
       "  <tbody>\n",
       "    <tr>\n",
       "      <th>0</th>\n",
       "      <td>2104.0</td>\n",
       "      <td>3.0</td>\n",
       "    </tr>\n",
       "    <tr>\n",
       "      <th>1</th>\n",
       "      <td>1600.0</td>\n",
       "      <td>3.0</td>\n",
       "    </tr>\n",
       "    <tr>\n",
       "      <th>2</th>\n",
       "      <td>2400.0</td>\n",
       "      <td>3.0</td>\n",
       "    </tr>\n",
       "    <tr>\n",
       "      <th>3</th>\n",
       "      <td>1416.0</td>\n",
       "      <td>2.0</td>\n",
       "    </tr>\n",
       "    <tr>\n",
       "      <th>4</th>\n",
       "      <td>3000.0</td>\n",
       "      <td>4.0</td>\n",
       "    </tr>\n",
       "    <tr>\n",
       "      <th>5</th>\n",
       "      <td>1985.0</td>\n",
       "      <td>4.0</td>\n",
       "    </tr>\n",
       "    <tr>\n",
       "      <th>6</th>\n",
       "      <td>1534.0</td>\n",
       "      <td>3.0</td>\n",
       "    </tr>\n",
       "    <tr>\n",
       "      <th>7</th>\n",
       "      <td>1427.0</td>\n",
       "      <td>3.0</td>\n",
       "    </tr>\n",
       "    <tr>\n",
       "      <th>8</th>\n",
       "      <td>1380.0</td>\n",
       "      <td>3.0</td>\n",
       "    </tr>\n",
       "    <tr>\n",
       "      <th>9</th>\n",
       "      <td>1494.0</td>\n",
       "      <td>3.0</td>\n",
       "    </tr>\n",
       "  </tbody>\n",
       "</table>\n",
       "</div>"
      ],
      "text/plain": [
       "     area  bathrooms\n",
       "0  2104.0        3.0\n",
       "1  1600.0        3.0\n",
       "2  2400.0        3.0\n",
       "3  1416.0        2.0\n",
       "4  3000.0        4.0\n",
       "5  1985.0        4.0\n",
       "6  1534.0        3.0\n",
       "7  1427.0        3.0\n",
       "8  1380.0        3.0\n",
       "9  1494.0        3.0"
      ]
     },
     "execution_count": 2,
     "metadata": {},
     "output_type": "execute_result"
    }
   ],
   "source": [
    "# load data frame \n",
    "dataframe = pd.read_csv('./data.csv')\n",
    "# remove unwanted columns\n",
    "dataframe = dataframe.drop(['index', 'price', 'sq_price'], axis=1)\n",
    "# taking first 10 columns for data\n",
    "dataframe = dataframe.head(10)\n",
    "dataframe"
   ]
  },
  {
   "cell_type": "markdown",
   "metadata": {},
   "source": [
    "## Step 2\n",
    "\n",
    "Making labels for our data set  "
   ]
  },
  {
   "cell_type": "code",
   "execution_count": 3,
   "metadata": {},
   "outputs": [
    {
     "data": {
      "text/html": [
       "<div>\n",
       "<style scoped>\n",
       "    .dataframe tbody tr th:only-of-type {\n",
       "        vertical-align: middle;\n",
       "    }\n",
       "\n",
       "    .dataframe tbody tr th {\n",
       "        vertical-align: top;\n",
       "    }\n",
       "\n",
       "    .dataframe thead th {\n",
       "        text-align: right;\n",
       "    }\n",
       "</style>\n",
       "<table border=\"1\" class=\"dataframe\">\n",
       "  <thead>\n",
       "    <tr style=\"text-align: right;\">\n",
       "      <th></th>\n",
       "      <th>area</th>\n",
       "      <th>bathrooms</th>\n",
       "      <th>y1</th>\n",
       "      <th>y2</th>\n",
       "    </tr>\n",
       "  </thead>\n",
       "  <tbody>\n",
       "    <tr>\n",
       "      <th>0</th>\n",
       "      <td>2104.0</td>\n",
       "      <td>3.0</td>\n",
       "      <td>1</td>\n",
       "      <td>0</td>\n",
       "    </tr>\n",
       "    <tr>\n",
       "      <th>1</th>\n",
       "      <td>1600.0</td>\n",
       "      <td>3.0</td>\n",
       "      <td>1</td>\n",
       "      <td>0</td>\n",
       "    </tr>\n",
       "    <tr>\n",
       "      <th>2</th>\n",
       "      <td>2400.0</td>\n",
       "      <td>3.0</td>\n",
       "      <td>1</td>\n",
       "      <td>0</td>\n",
       "    </tr>\n",
       "    <tr>\n",
       "      <th>3</th>\n",
       "      <td>1416.0</td>\n",
       "      <td>2.0</td>\n",
       "      <td>0</td>\n",
       "      <td>1</td>\n",
       "    </tr>\n",
       "    <tr>\n",
       "      <th>4</th>\n",
       "      <td>3000.0</td>\n",
       "      <td>4.0</td>\n",
       "      <td>0</td>\n",
       "      <td>1</td>\n",
       "    </tr>\n",
       "    <tr>\n",
       "      <th>5</th>\n",
       "      <td>1985.0</td>\n",
       "      <td>4.0</td>\n",
       "      <td>1</td>\n",
       "      <td>0</td>\n",
       "    </tr>\n",
       "    <tr>\n",
       "      <th>6</th>\n",
       "      <td>1534.0</td>\n",
       "      <td>3.0</td>\n",
       "      <td>0</td>\n",
       "      <td>1</td>\n",
       "    </tr>\n",
       "    <tr>\n",
       "      <th>7</th>\n",
       "      <td>1427.0</td>\n",
       "      <td>3.0</td>\n",
       "      <td>1</td>\n",
       "      <td>0</td>\n",
       "    </tr>\n",
       "    <tr>\n",
       "      <th>8</th>\n",
       "      <td>1380.0</td>\n",
       "      <td>3.0</td>\n",
       "      <td>1</td>\n",
       "      <td>0</td>\n",
       "    </tr>\n",
       "    <tr>\n",
       "      <th>9</th>\n",
       "      <td>1494.0</td>\n",
       "      <td>3.0</td>\n",
       "      <td>1</td>\n",
       "      <td>0</td>\n",
       "    </tr>\n",
       "  </tbody>\n",
       "</table>\n",
       "</div>"
      ],
      "text/plain": [
       "     area  bathrooms  y1  y2\n",
       "0  2104.0        3.0   1   0\n",
       "1  1600.0        3.0   1   0\n",
       "2  2400.0        3.0   1   0\n",
       "3  1416.0        2.0   0   1\n",
       "4  3000.0        4.0   0   1\n",
       "5  1985.0        4.0   1   0\n",
       "6  1534.0        3.0   0   1\n",
       "7  1427.0        3.0   1   0\n",
       "8  1380.0        3.0   1   0\n",
       "9  1494.0        3.0   1   0"
      ]
     },
     "execution_count": 3,
     "metadata": {},
     "output_type": "execute_result"
    }
   ],
   "source": [
    "# adding a label for classification \n",
    "# 1 for good buy and 0 for bad buy\n",
    "dataframe.loc[:, ('y1')] = [1,1,1,0,0,1,0,1,1,1]\n",
    "# creating a new column for data classification \n",
    "dataframe.loc[:, ('y2')] = dataframe['y1'] == 0\n",
    "# turning y2 from TRUE/FALSE to interger of 1 and 0\n",
    "dataframe.loc[:, ('y2')] = dataframe['y2'].astype(int)\n",
    "dataframe"
   ]
  },
  {
   "cell_type": "markdown",
   "metadata": {},
   "source": [
    "## Step 3 \n",
    "\n",
    "Prepare data for tensorflow "
   ]
  },
  {
   "cell_type": "code",
   "execution_count": 4,
   "metadata": {},
   "outputs": [],
   "source": [
    "# convert input to input tensor\n",
    "inputX = dataframe.iloc[:,:2].values"
   ]
  },
  {
   "cell_type": "code",
   "execution_count": 5,
   "metadata": {},
   "outputs": [
    {
     "data": {
      "text/plain": [
       "array([[1, 0],\n",
       "       [1, 0],\n",
       "       [1, 0],\n",
       "       [0, 1],\n",
       "       [0, 1],\n",
       "       [1, 0],\n",
       "       [0, 1],\n",
       "       [1, 0],\n",
       "       [1, 0],\n",
       "       [1, 0]])"
      ]
     },
     "execution_count": 5,
     "metadata": {},
     "output_type": "execute_result"
    }
   ],
   "source": [
    "# converting labels as label tensor\n",
    "inputY = dataframe.iloc[:,-2:].values\n",
    "inputY"
   ]
  },
  {
   "cell_type": "markdown",
   "metadata": {},
   "source": [
    "## Step 4 \n",
    "\n",
    "Initializing our hyperparameters"
   ]
  },
  {
   "cell_type": "code",
   "execution_count": 6,
   "metadata": {},
   "outputs": [],
   "source": [
    "# learning rate \n",
    "learning_rate = 0.00001\n",
    "\n",
    "# num of iterations \n",
    "training_epochs = 2000\n",
    "\n",
    "# display process after \n",
    "display_step = 50\n",
    "\n",
    "# number of samples \n",
    "n_samples= inputY.size"
   ]
  },
  {
   "cell_type": "markdown",
   "metadata": {},
   "source": [
    "## Step 5\n",
    "\n",
    "Making a computational graph or neural network "
   ]
  },
  {
   "cell_type": "code",
   "execution_count": 7,
   "metadata": {},
   "outputs": [],
   "source": [
    "# placeholder for input features \n",
    "x = tf.placeholder(tf.float32, [None,2])\n",
    "\n",
    "# making a weight matrix \n",
    "W = tf.Variable(tf.zeros([2,2]))\n",
    "\n",
    "# creating a bias matrix \n",
    "b = tf.zeros([2])\n",
    "\n",
    "# predicting y values just like y = mx + b\n",
    "y_values = tf.add(tf.matmul(x, W), b)\n",
    "\n",
    "# making a softmax \n",
    "y = tf.nn.softmax(y_values)\n",
    "\n",
    "# making a y placeholder \n",
    "y_ = tf.placeholder(tf.float32, [None,2])"
   ]
  },
  {
   "cell_type": "markdown",
   "metadata": {},
   "source": [
    "## Step 6\n",
    "\n",
    "Making a cost function which is **MSE**."
   ]
  },
  {
   "cell_type": "code",
   "execution_count": 8,
   "metadata": {},
   "outputs": [],
   "source": [
    "# cost function \n",
    "cost = tf.reduce_sum(tf.pow((y_ - y), 2)) / (2 * n_samples)\n",
    "# Gradient Descent\n",
    "optimizer = tf.train.GradientDescentOptimizer(learning_rate).minimize(cost)"
   ]
  },
  {
   "cell_type": "code",
   "execution_count": 9,
   "metadata": {},
   "outputs": [
    {
     "name": "stdout",
     "output_type": "stream",
     "text": [
      "WARNING:tensorflow:From /home/sanidhya/anaconda3/lib/python3.6/site-packages/tensorflow/python/util/tf_should_use.py:118: initialize_all_variables (from tensorflow.python.ops.variables) is deprecated and will be removed after 2017-03-02.\n",
      "Instructions for updating:\n",
      "Use `tf.global_variables_initializer` instead.\n"
     ]
    }
   ],
   "source": [
    "# intialize variables and tf session \n",
    "init = tf.initialize_all_variables()\n",
    "sess = tf.Session()\n",
    "sess.run(init)"
   ]
  },
  {
   "cell_type": "code",
   "execution_count": 10,
   "metadata": {},
   "outputs": [
    {
     "name": "stdout",
     "output_type": "stream",
     "text": [
      "Number of iterations 0, cost = 0.134503588\n",
      "Number of iterations 50, cost = 0.112963274\n",
      "Number of iterations 100, cost = 0.112963282\n",
      "Number of iterations 150, cost = 0.112963296\n",
      "Number of iterations 200, cost = 0.112963296\n",
      "Number of iterations 250, cost = 0.112963296\n",
      "Number of iterations 300, cost = 0.112963311\n",
      "Number of iterations 350, cost = 0.112963296\n",
      "Number of iterations 400, cost = 0.112963319\n",
      "Number of iterations 450, cost = 0.112963296\n",
      "Number of iterations 500, cost = 0.112963319\n",
      "Number of iterations 550, cost = 0.112963319\n",
      "Number of iterations 600, cost = 0.112963319\n",
      "Number of iterations 650, cost = 0.112963334\n",
      "Number of iterations 700, cost = 0.112963319\n",
      "Number of iterations 750, cost = 0.112963334\n",
      "Number of iterations 800, cost = 0.112963319\n",
      "Number of iterations 850, cost = 0.112963341\n",
      "Number of iterations 900, cost = 0.112963341\n",
      "Number of iterations 950, cost = 0.112963341\n",
      "Number of iterations 1000, cost = 0.112963371\n",
      "Number of iterations 1050, cost = 0.112963356\n",
      "Number of iterations 1100, cost = 0.112963371\n",
      "Number of iterations 1150, cost = 0.112963341\n",
      "Number of iterations 1200, cost = 0.112963356\n",
      "Number of iterations 1250, cost = 0.112963356\n",
      "Number of iterations 1300, cost = 0.112963393\n",
      "Number of iterations 1350, cost = 0.112963371\n",
      "Number of iterations 1400, cost = 0.112963378\n",
      "Number of iterations 1450, cost = 0.112963393\n",
      "Number of iterations 1500, cost = 0.112963393\n",
      "Number of iterations 1550, cost = 0.112963393\n",
      "Number of iterations 1600, cost = 0.112963416\n",
      "Number of iterations 1650, cost = 0.112963393\n",
      "Number of iterations 1700, cost = 0.112963401\n",
      "Number of iterations 1750, cost = 0.112963416\n",
      "Number of iterations 1800, cost = 0.112963416\n",
      "Number of iterations 1850, cost = 0.112963416\n",
      "Number of iterations 1900, cost = 0.112963416\n",
      "Number of iterations 1950, cost = 0.112963431\n",
      "Optimization Finished\n",
      "Training cost= 0.11095764487981796, W= [[ 0.00014084 -0.00014084]\n",
      " [ 0.0004558  -0.0004558 ]], b= [0. 0.]\n"
     ]
    }
   ],
   "source": [
    "# training loop \n",
    "for i in range(training_epochs):\n",
    "    sess.run(optimizer, feed_dict={x:inputX, y_:inputY})\n",
    "    \n",
    "    if (i) % display_step == 0:\n",
    "        cc = sess.run(cost, feed_dict={x:inputX, y_:inputY})\n",
    "        print(\"Number of iterations {}, cost = {:.9f}\".format(i, cc))\n",
    "        \n",
    "print(\"Optimization Finished\")\n",
    "training_cost = sess.run(cost, feed_dict={x:inputX, y_:inputY})\n",
    "print(\"Training cost= {}, W= {}, b= {}\".format(training_cost, sess.run(W), sess.run(b)))"
   ]
  },
  {
   "cell_type": "code",
   "execution_count": 11,
   "metadata": {},
   "outputs": [
    {
     "data": {
      "text/plain": [
       "array([[0.6445981 , 0.3554019 ],\n",
       "       [0.6114506 , 0.3885494 ],\n",
       "       [0.66346043, 0.3365396 ],\n",
       "       [0.59884965, 0.4011504 ],\n",
       "       [0.700288  , 0.299712  ],\n",
       "       [0.63709325, 0.36290675],\n",
       "       [0.6070249 , 0.39297518],\n",
       "       [0.59981257, 0.40018743],\n",
       "       [0.59663063, 0.40336937],\n",
       "       [0.60433394, 0.39566603]], dtype=float32)"
      ]
     },
     "execution_count": 11,
     "metadata": {},
     "output_type": "execute_result"
    }
   ],
   "source": [
    "# running session value \n",
    "sess.run(y, feed_dict={x:inputX, y_:inputY})"
   ]
  }
 ],
 "metadata": {
  "kernelspec": {
   "display_name": "Python 3",
   "language": "python",
   "name": "python3"
  },
  "language_info": {
   "codemirror_mode": {
    "name": "ipython",
    "version": 3
   },
   "file_extension": ".py",
   "mimetype": "text/x-python",
   "name": "python",
   "nbconvert_exporter": "python",
   "pygments_lexer": "ipython3",
   "version": "3.6.6"
  }
 },
 "nbformat": 4,
 "nbformat_minor": 2
}
